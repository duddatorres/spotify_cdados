{
 "cells": [
  {
   "cell_type": "markdown",
   "metadata": {},
   "source": [
    "# Projeto 1 - Ciência dos Dados"
   ]
  },
  {
   "cell_type": "markdown",
   "metadata": {},
   "source": [
    "Nome: Maria Eduarda Gonçalves Torres\n",
    "\n",
    "Nome: Pedro Rubens "
   ]
  },
  {
   "cell_type": "markdown",
   "metadata": {},
   "source": [
    "**Atenção:** Serão permitidos grupos de três pessoas, mas com uma rubrica mais exigente. Grupos deste tamanho precisarão fazer um questionário de avaliação de trabalho em equipe"
   ]
  },
  {
   "cell_type": "markdown",
   "metadata": {},
   "source": [
    "___\n",
    "Carregando algumas bibliotecas:"
   ]
  },
  {
   "cell_type": "code",
   "execution_count": 267,
   "metadata": {},
   "outputs": [],
   "source": [
    "%matplotlib inline\n",
    "import pandas as pd\n",
    "import matplotlib.pyplot as plt\n",
    "import numpy as np\n",
    "import os"
   ]
  },
  {
   "cell_type": "markdown",
   "metadata": {},
   "source": [
    "**Em `filename`, coloque o nome do seu arquivo de dados!**"
   ]
  },
  {
   "cell_type": "code",
   "execution_count": 268,
   "metadata": {
    "scrolled": false
   },
   "outputs": [
    {
     "name": "stdout",
     "output_type": "stream",
     "text": [
      "Encontrei o arquivo Spotify.xlsx, tudo certo para prosseguir com a prova!\n"
     ]
    }
   ],
   "source": [
    "import os\n",
    "\n",
    "filename = 'Spotify.xlsx'\n",
    "if filename in os.listdir():\n",
    "    print(f'Encontrei o arquivo {filename}, tudo certo para prosseguir com a prova!')\n",
    "else:\n",
    "    print(f'Não encontrei o arquivo {filename} aqui no diretório {os.getcwd()}, será que você não baixou o arquivo?')"
   ]
  },
  {
   "cell_type": "markdown",
   "metadata": {},
   "source": [
    "Carregando a base de dados com os tweets classificados como relevantes e não relevantes:"
   ]
  },
  {
   "cell_type": "code",
   "execution_count": 269,
   "metadata": {},
   "outputs": [
    {
     "data": {
      "text/html": [
       "<div>\n",
       "<style scoped>\n",
       "    .dataframe tbody tr th:only-of-type {\n",
       "        vertical-align: middle;\n",
       "    }\n",
       "\n",
       "    .dataframe tbody tr th {\n",
       "        vertical-align: top;\n",
       "    }\n",
       "\n",
       "    .dataframe thead th {\n",
       "        text-align: right;\n",
       "    }\n",
       "</style>\n",
       "<table border=\"1\" class=\"dataframe\">\n",
       "  <thead>\n",
       "    <tr style=\"text-align: right;\">\n",
       "      <th></th>\n",
       "      <th>Treinamento</th>\n",
       "      <th>Classificacao</th>\n",
       "    </tr>\n",
       "  </thead>\n",
       "  <tbody>\n",
       "    <tr>\n",
       "      <th>0</th>\n",
       "      <td>rt @clarisdsf: cade “barquinho de papel” no sp...</td>\n",
       "      <td>0</td>\n",
       "    </tr>\n",
       "    <tr>\n",
       "      <th>1</th>\n",
       "      <td>rt @sugaminart: as us armys tão falando muito ...</td>\n",
       "      <td>0</td>\n",
       "    </tr>\n",
       "    <tr>\n",
       "      <th>2</th>\n",
       "      <td>gatilhoooooo https://t.co/fronb3zngb</td>\n",
       "      <td>1</td>\n",
       "    </tr>\n",
       "    <tr>\n",
       "      <th>3</th>\n",
       "      <td>nem tenho o que dizer https://t.co/9dlkkj5urh</td>\n",
       "      <td>0</td>\n",
       "    </tr>\n",
       "    <tr>\n",
       "      <th>4</th>\n",
       "      <td>putos dos anúncios da colgate que aparecem no ...</td>\n",
       "      <td>0</td>\n",
       "    </tr>\n",
       "  </tbody>\n",
       "</table>\n",
       "</div>"
      ],
      "text/plain": [
       "                                         Treinamento  Classificacao\n",
       "0  rt @clarisdsf: cade “barquinho de papel” no sp...              0\n",
       "1  rt @sugaminart: as us armys tão falando muito ...              0\n",
       "2               gatilhoooooo https://t.co/fronb3zngb              1\n",
       "3      nem tenho o que dizer https://t.co/9dlkkj5urh              0\n",
       "4  putos dos anúncios da colgate que aparecem no ...              0"
      ]
     },
     "execution_count": 269,
     "metadata": {},
     "output_type": "execute_result"
    }
   ],
   "source": [
    "train = pd.read_excel('Spotify.xlsx')\n",
    "train.head()"
   ]
  },
  {
   "cell_type": "code",
   "execution_count": 270,
   "metadata": {},
   "outputs": [],
   "source": [
    "test = pd.read_excel(filename, sheet_name = 'Teste')"
   ]
  },
  {
   "cell_type": "markdown",
   "metadata": {},
   "source": [
    "___\n",
    "## Classificador automático de sentimento\n"
   ]
  },
  {
   "cell_type": "markdown",
   "metadata": {},
   "source": [
    "Neste trabalho, pensamos da segunda pergunta:\n",
    "O quanto os usuarios estão ajudando a promover o aplicativo Spotify?\n",
    "\n",
    "Vamos classificar como relevante tweets que falam sobre o app e seu serviço. E como irrelevante tweets que só compartilham musicas e não mencionam o nome do aplicativo."
   ]
  },
  {
   "cell_type": "markdown",
   "metadata": {},
   "source": [
    "## Limpeza das bases"
   ]
  },
  {
   "cell_type": "markdown",
   "metadata": {},
   "source": [
    "___\n",
    "### Montando um Classificador Naive-Bayes\n",
    "\n",
    "Considerando apenas as mensagens da planilha Treinamento, ensine  seu classificador."
   ]
  },
  {
   "cell_type": "code",
   "execution_count": 271,
   "metadata": {},
   "outputs": [],
   "source": [
    "R = train['Classificacao'] == 1\n",
    "relevante = train.loc[R,:]\n"
   ]
  },
  {
   "cell_type": "code",
   "execution_count": 272,
   "metadata": {},
   "outputs": [],
   "source": [
    "I = train['Classificacao'] == 0\n",
    "irrelevante = train.loc[I,:]\n"
   ]
  },
  {
   "cell_type": "markdown",
   "metadata": {},
   "source": [
    "##### Total de ocorrencias\n"
   ]
  },
  {
   "cell_type": "code",
   "execution_count": 273,
   "metadata": {},
   "outputs": [
    {
     "data": {
      "text/plain": [
       "241"
      ]
     },
     "execution_count": 273,
     "metadata": {},
     "output_type": "execute_result"
    }
   ],
   "source": [
    "total = len(train.index)\n",
    "total"
   ]
  },
  {
   "cell_type": "code",
   "execution_count": 274,
   "metadata": {},
   "outputs": [
    {
     "data": {
      "text/plain": [
       "75"
      ]
     },
     "execution_count": 274,
     "metadata": {},
     "output_type": "execute_result"
    }
   ],
   "source": [
    "total_relevante = len(relevante.index)\n",
    "total_relevante"
   ]
  },
  {
   "cell_type": "code",
   "execution_count": 275,
   "metadata": {},
   "outputs": [
    {
     "data": {
      "text/plain": [
       "166"
      ]
     },
     "execution_count": 275,
     "metadata": {},
     "output_type": "execute_result"
    }
   ],
   "source": [
    "total_irrelevante = len(irrelevante.index)\n",
    "total_irrelevante"
   ]
  },
  {
   "cell_type": "markdown",
   "metadata": {},
   "source": [
    "##### probabilidade de ser relevante"
   ]
  },
  {
   "cell_type": "code",
   "execution_count": 276,
   "metadata": {},
   "outputs": [
    {
     "data": {
      "text/plain": [
       "0.3112033195020747"
      ]
     },
     "execution_count": 276,
     "metadata": {},
     "output_type": "execute_result"
    }
   ],
   "source": [
    "prob_relevante= total_relevante/total\n",
    "prob_relevante"
   ]
  },
  {
   "cell_type": "markdown",
   "metadata": {},
   "source": [
    "##### probabilidade de ser irrelevante"
   ]
  },
  {
   "cell_type": "code",
   "execution_count": 277,
   "metadata": {},
   "outputs": [
    {
     "data": {
      "text/plain": [
       "0.6887966804979253"
      ]
     },
     "execution_count": 277,
     "metadata": {},
     "output_type": "execute_result"
    }
   ],
   "source": [
    "prob_irrelevante= total_irrelevante/total\n",
    "prob_irrelevante"
   ]
  },
  {
   "cell_type": "markdown",
   "metadata": {},
   "source": [
    "##### transformando em texto"
   ]
  },
  {
   "cell_type": "code",
   "execution_count": 278,
   "metadata": {},
   "outputs": [],
   "source": [
    "texto=\"\"\n",
    "for e in train.Treinamento:\n",
    "    texto+= \" \" + e \n"
   ]
  },
  {
   "cell_type": "code",
   "execution_count": 279,
   "metadata": {},
   "outputs": [],
   "source": [
    "texto_relevante=\"\"\n",
    "for e in relevante.Treinamento:\n",
    "    texto_relevante+= \" \" + e "
   ]
  },
  {
   "cell_type": "code",
   "execution_count": 280,
   "metadata": {},
   "outputs": [],
   "source": [
    "texto_irrelevante=\"\"\n",
    "for e in irrelevante.Treinamento:\n",
    "    texto_irrelevante+= \" \" + e "
   ]
  },
  {
   "cell_type": "markdown",
   "metadata": {},
   "source": [
    "##### limpeza das bases"
   ]
  },
  {
   "cell_type": "code",
   "execution_count": 281,
   "metadata": {},
   "outputs": [],
   "source": [
    "import re \n",
    "\n",
    "def cleanup(text):    \n",
    "    \"\"\"        Função de limpeza muito simples que troca alguns sinais básicos por espaços    \"\"\"    \n",
    "    import string   \n",
    "    tira_mencoes = re.sub(\"@[A-Za-z0-9_]+\",\"\", text)  \n",
    "    punctuation = '[!-.:?;@\\/…《》]' # Note que os sinais [] são delimitadores de um conjunto.    \n",
    "    pattern = re.compile(punctuation)   \n",
    "    text_subbed = re.sub(pattern, ' ', tira_mencoes)   \n",
    "    return text_subbed"
   ]
  },
  {
   "cell_type": "markdown",
   "metadata": {},
   "source": [
    "##### Split and cleanup"
   ]
  },
  {
   "cell_type": "code",
   "execution_count": 282,
   "metadata": {},
   "outputs": [],
   "source": [
    "import re\n",
    "\n",
    "texto = cleanup(texto.lower())\n",
    "texto_split = pd.Series(texto.split())\n",
    "\n",
    "texto_relevante=cleanup(texto_relevante.lower())\n",
    "texto_relevante_split=pd.Series(texto_relevante.lower())\n",
    "\n",
    "texto_irrelevante=cleanup(texto_irrelevante.lower())\n",
    "texto_irrelevante_split=pd.Series(texto_irrelevante.lower())\n"
   ]
  },
  {
   "cell_type": "code",
   "execution_count": 283,
   "metadata": {},
   "outputs": [
    {
     "data": {
      "text/plain": [
       "'aqui está uma música para você \\n p i m p  de 50 cent 🎶\\nhttps   t co xzq0gujavv'"
      ]
     },
     "execution_count": 283,
     "metadata": {},
     "output_type": "execute_result"
    }
   ],
   "source": [
    "for e in relevante.Treinamento:\n",
    "    e = cleanup(e.lower())\n",
    "    x = re.sub(\"@[A-Za-z0-9]+\",\"\",e)\n",
    "x"
   ]
  },
  {
   "cell_type": "code",
   "execution_count": 284,
   "metadata": {},
   "outputs": [
    {
     "data": {
      "text/plain": [
       "'o cabelo da jiwoo nessa era só tava o bagaco qria ate entrega um shampoo do futuro p ela\\n https   t co bpvxfmih37'"
      ]
     },
     "execution_count": 284,
     "metadata": {},
     "output_type": "execute_result"
    }
   ],
   "source": [
    "for e in irrelevante.Treinamento:\n",
    "    e = cleanup(e.lower())\n",
    "    x = re.sub(\"@[A-Za-z0-9]+\",\"\",e)\n",
    "x"
   ]
  },
  {
   "cell_type": "code",
   "execution_count": 285,
   "metadata": {},
   "outputs": [
    {
     "data": {
      "text/plain": [
       "0     gatilhoooooo\n",
       "1            https\n",
       "2                t\n",
       "3               co\n",
       "4       fronb3zngb\n",
       "5              deu\n",
       "6             tudo\n",
       "7        ceeertooo\n",
       "8                e\n",
       "9            vamos\n",
       "10              de\n",
       "11         spotify\n",
       "12           hummm\n",
       "13             vou\n",
       "14              lá\n",
       "15              no\n",
       "16         spotify\n",
       "17             dar\n",
       "18             uma\n",
       "19          ouvida\n",
       "dtype: object"
      ]
     },
     "execution_count": 285,
     "metadata": {},
     "output_type": "execute_result"
    }
   ],
   "source": [
    "serie_relevante = pd.Series(texto_relevante.split())\n",
    "serie_relevante.head(20)"
   ]
  },
  {
   "cell_type": "code",
   "execution_count": 286,
   "metadata": {},
   "outputs": [
    {
     "data": {
      "text/plain": [
       "0             rt\n",
       "1           cade\n",
       "2     “barquinho\n",
       "3             de\n",
       "4         papel”\n",
       "5             no\n",
       "6        spotify\n",
       "7           hein\n",
       "8         espero\n",
       "9            por\n",
       "10          isso\n",
       "11           faz\n",
       "12             2\n",
       "13          anos\n",
       "14            😔😔\n",
       "15            rt\n",
       "16            as\n",
       "17            us\n",
       "18         armys\n",
       "19           tão\n",
       "dtype: object"
      ]
     },
     "execution_count": 286,
     "metadata": {},
     "output_type": "execute_result"
    }
   ],
   "source": [
    "serie_irrelevante = pd.Series(texto_irrelevante.split())\n",
    "serie_irrelevante.head(20)"
   ]
  },
  {
   "cell_type": "markdown",
   "metadata": {},
   "source": [
    "#### Frequências absolutas das palavras"
   ]
  },
  {
   "cell_type": "code",
   "execution_count": 287,
   "metadata": {},
   "outputs": [
    {
     "data": {
      "text/plain": [
       "https         54\n",
       "t             51\n",
       "co            51\n",
       "de            49\n",
       "spotify       34\n",
       "              ..\n",
       "😭😭😭❤           1\n",
       "ogcylzowre     1\n",
       "coisas         1\n",
       "atualmente     1\n",
       "disponível     1\n",
       "Length: 596, dtype: int64"
      ]
     },
     "execution_count": 287,
     "metadata": {},
     "output_type": "execute_result"
    }
   ],
   "source": [
    "tabela_relativa = serie_relevante.value_counts()\n",
    "tabela_relativa "
   ]
  },
  {
   "cell_type": "code",
   "execution_count": 288,
   "metadata": {},
   "outputs": [
    {
     "data": {
      "text/plain": [
       "t             126\n",
       "https         126\n",
       "co            126\n",
       "de             61\n",
       "a              57\n",
       "             ... \n",
       "gcwjr3lcsx      1\n",
       "rhljgkj5vf      1\n",
       "futuro          1\n",
       "estar           1\n",
       "disponível      1\n",
       "Length: 1025, dtype: int64"
      ]
     },
     "execution_count": 288,
     "metadata": {},
     "output_type": "execute_result"
    }
   ],
   "source": [
    "tabela_irrelativa = serie_irrelevante.value_counts()\n",
    "tabela_irrelativa "
   ]
  },
  {
   "cell_type": "markdown",
   "metadata": {},
   "source": [
    "#### Frequência relativa das palavras"
   ]
  },
  {
   "cell_type": "code",
   "execution_count": 318,
   "metadata": {},
   "outputs": [
    {
     "data": {
      "text/plain": [
       "https         0.039387\n",
       "t             0.037199\n",
       "co            0.037199\n",
       "de            0.035740\n",
       "spotify       0.024799\n",
       "                ...   \n",
       "😭😭😭❤          0.000729\n",
       "ogcylzowre    0.000729\n",
       "coisas        0.000729\n",
       "atualmente    0.000729\n",
       "disponível    0.000729\n",
       "Length: 596, dtype: float64"
      ]
     },
     "execution_count": 318,
     "metadata": {},
     "output_type": "execute_result"
    }
   ],
   "source": [
    "tabela_relevante_relativa = serie_relevante.value_counts(True)\n",
    "tabela_relevante_relativa"
   ]
  },
  {
   "cell_type": "code",
   "execution_count": 319,
   "metadata": {},
   "outputs": [
    {
     "data": {
      "text/plain": [
       "t             0.050663\n",
       "https         0.050663\n",
       "co            0.050663\n",
       "de            0.024528\n",
       "a             0.022919\n",
       "                ...   \n",
       "gcwjr3lcsx    0.000402\n",
       "rhljgkj5vf    0.000402\n",
       "futuro        0.000402\n",
       "estar         0.000402\n",
       "disponível    0.000402\n",
       "Length: 1025, dtype: float64"
      ]
     },
     "execution_count": 319,
     "metadata": {},
     "output_type": "execute_result"
    }
   ],
   "source": [
    "tabela_irrelevante_relativa = serie_irrelevante.value_counts(True)\n",
    "tabela_irrelevante_relativa"
   ]
  },
  {
   "cell_type": "code",
   "execution_count": 316,
   "metadata": {},
   "outputs": [
    {
     "data": {
      "text/plain": [
       "0.014475271411338963"
      ]
     },
     "execution_count": 316,
     "metadata": {},
     "output_type": "execute_result"
    }
   ],
   "source": [
    "tabela_irrelevante_relativa[\"spotify\"]"
   ]
  },
  {
   "cell_type": "code",
   "execution_count": 317,
   "metadata": {},
   "outputs": [
    {
     "data": {
      "text/plain": [
       "0.024799416484318017"
      ]
     },
     "execution_count": 317,
     "metadata": {},
     "output_type": "execute_result"
    }
   ],
   "source": [
    "tabela_relevante_relativa[\"spotify\"]"
   ]
  },
  {
   "cell_type": "markdown",
   "metadata": {},
   "source": [
    "#### Interseção entre os conjuntos"
   ]
  },
  {
   "cell_type": "code",
   "execution_count": 306,
   "metadata": {},
   "outputs": [],
   "source": [
    "set_relevante = set(tabela_relevante_relativa.index)\n",
    "set_irrelevante = set(tabela_irrelevante_relativa.index)\n",
    "inter = set_relevante.intersection(set_irrelevante)"
   ]
  },
  {
   "cell_type": "markdown",
   "metadata": {},
   "source": [
    "#### Classificando frases"
   ]
  },
  {
   "cell_type": "code",
   "execution_count": 310,
   "metadata": {},
   "outputs": [
    {
     "data": {
      "text/plain": [
       "Teste            rt @reputaylor: o maior ato da indústria music...\n",
       "Classificacao                                                    0\n",
       "Name: 90, dtype: object"
      ]
     },
     "execution_count": 310,
     "metadata": {},
     "output_type": "execute_result"
    }
   ],
   "source": [
    "base_teste = pd.ExcelFile('Spotify.xlsx')\n",
    "df1 = pd.read_excel(base_teste,'Teste')\n",
    "df1.iloc[90]"
   ]
  },
  {
   "cell_type": "markdown",
   "metadata": {},
   "source": [
    "___\n",
    "### Verificando a performance do Classificador\n",
    "\n",
    "Agora você deve testar o seu classificador com a base de Testes."
   ]
  },
  {
   "cell_type": "code",
   "execution_count": null,
   "metadata": {},
   "outputs": [],
   "source": []
  },
  {
   "cell_type": "code",
   "execution_count": null,
   "metadata": {},
   "outputs": [],
   "source": []
  },
  {
   "cell_type": "code",
   "execution_count": null,
   "metadata": {},
   "outputs": [],
   "source": []
  },
  {
   "cell_type": "markdown",
   "metadata": {},
   "source": [
    "___\n",
    "### Concluindo"
   ]
  },
  {
   "cell_type": "code",
   "execution_count": null,
   "metadata": {},
   "outputs": [],
   "source": []
  },
  {
   "cell_type": "code",
   "execution_count": null,
   "metadata": {},
   "outputs": [],
   "source": []
  },
  {
   "cell_type": "markdown",
   "metadata": {},
   "source": [
    "___\n",
    "## Aperfeiçoamento:\n",
    "\n",
    "Os trabalhos vão evoluir em conceito dependendo da quantidade de itens avançados:\n",
    "\n",
    "* Limpar: \\n, :, \", ', (, ), etc SEM remover emojis\n",
    "* Corrigir separação de espaços entre palavras e emojis ou entre emojis e emojis\n",
    "* Propor outras limpezas e transformações que não afetem a qualidade da informação ou classificação\n",
    "* Criar categorias intermediárias de relevância baseadas na probabilidade: ex.: muito relevante, relevante, neutro, irrelevante, muito irrelevante (3 categorias: C, mais categorias conta para B)\n",
    "* Explicar por que não posso usar o próprio classificador para gerar mais amostras de treinamento\n",
    "* Propor diferentes cenários para Naïve Bayes fora do contexto do projeto\n",
    "* Sugerir e explicar melhorias reais com indicações concretas de como implementar (indicar como fazer e indicar material de pesquisa)\n",
    "* Montar um dashboard que realiza análise de sentimento e visualiza estes dados"
   ]
  },
  {
   "cell_type": "markdown",
   "metadata": {},
   "source": [
    "___\n",
    "## Referências"
   ]
  },
  {
   "cell_type": "markdown",
   "metadata": {},
   "source": [
    "[Naive Bayes and Text Classification](https://arxiv.org/pdf/1410.5329.pdf)  **Mais completo**\n",
    "\n",
    "[A practical explanation of a Naive Bayes Classifier](https://monkeylearn.com/blog/practical-explanation-naive-bayes-classifier/) **Mais simples**"
   ]
  },
  {
   "cell_type": "markdown",
   "metadata": {},
   "source": [
    "https://pandas.pydata.org/pandas-docs/stable/user_guide/indexing.html"
   ]
  },
  {
   "cell_type": "code",
   "execution_count": null,
   "metadata": {},
   "outputs": [],
   "source": []
  }
 ],
 "metadata": {
  "kernelspec": {
   "display_name": "Python 3",
   "language": "python",
   "name": "python3"
  },
  "language_info": {
   "codemirror_mode": {
    "name": "ipython",
    "version": 3
   },
   "file_extension": ".py",
   "mimetype": "text/x-python",
   "name": "python",
   "nbconvert_exporter": "python",
   "pygments_lexer": "ipython3",
   "version": "3.7.6"
  }
 },
 "nbformat": 4,
 "nbformat_minor": 4
}
